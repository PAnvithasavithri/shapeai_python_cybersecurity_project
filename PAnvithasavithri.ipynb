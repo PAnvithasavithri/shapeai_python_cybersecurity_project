{
  "nbformat": 4,
  "nbformat_minor": 0,
  "metadata": {
    "colab": {
      "name": "PAnvithasavithri.ipynb",
      "provenance": []
    },
    "kernelspec": {
      "name": "python3",
      "display_name": "Python 3"
    },
    "language_info": {
      "name": "python"
    }
  },
  "cells": [
    {
      "cell_type": "code",
      "metadata": {
        "id": "MFN5Ap1uQh7X"
      },
      "source": [
        "import requests\n",
        "#import os\n",
        "from datetime import datetime\n",
        "api_key=='00d13ae4df9b4fa225facb4b5c8b7a7a'\n",
        "location=input(\"ENTER THE CITY NAME:\")\n",
        "complete_api_link=\"https://api.openweathermap.org/data/2.5/weather?q=\"+location+\"&appid=\"+api_key\n",
        "api_link=requests.get(complete_api_link)\n",
        "api_link=api_link.json()\n",
        "#Create variables to store and display data\n",
        "temp_city=((api_data['main']['temp'])-273.15)\n",
        "weather_desc=api_data['weather'][0]['description']\n",
        "hmdt=api_data['main']['humidity']\n",
        "wind_spd=api_data['wind']['speed']\n",
        "date_time=date_time.now().strftime(\"%d %b %Y | %I:%M:%S %p\")\n",
        "print(\"--------------------------------------------------------------\")\n",
        "print(\"Weather Stats for-{}   ||   {}\".format(location.upper(),dare_time))\n",
        "print(\"------------------------------------------------------------\")\n",
        "print(Current temperature is:{:.2f}) deg C\".format(temp_city))\n",
        "print(\"Current weather disc :\",weather_desc)\n",
        "print(\"Current humidity :\",hmdt,'%')\n",
        "print(\"Current wind speed :\",wind_spd,'kmph')\n",
        "print(\"=====================================================\")\n",
        "#making a list so that I can print the info to a text\n",
        "txtlist=[temp_city,weather_desc,hmdt,wind_spd,date_time]\n",
        "#using open() built-in functions to write to a text file\n",
        "with open(\"textfile.txt\",mode='w',encoding='utf-8') as f:\n",
        "# encoding=utf-8 for linux and cp1252 for windows\n",
        "       f.write(\"--------------------------------------------------------\\n\")\n",
        "       f.write(\"weather states for -{}   ||   {}\".format(location.upper(),date_time))\n",
        "       f.write(\"\\n------------------------------------------------------------\\n\")\n",
        "       f.write(\"Current temperature is: {:.2f} deg C\\n\".format(location.upper(),date_time))\n",
        "       f.write(\"{},{} \\n\".format(\"Current weather desc  :\",txtlist[1]))\n",
        "       f.write(\"{},{},{} \\n\".format(\"Current Humidity  :\",txtlist[2]))\n",
        "       f.write(\"{},{}m,{} \\n\".format(\"Current wind speed  :\",txtlist[3],\"kmph\"))\n",
        "       f.write(\"=====================================================\")"
      ],
      "execution_count": null,
      "outputs": []
    }
  ]
}